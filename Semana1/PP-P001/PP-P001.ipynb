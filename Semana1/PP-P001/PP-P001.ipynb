{
 "cells": [
  {
   "cell_type": "markdown",
   "id": "79890000",
   "metadata": {},
   "source": [
    "# INSTRUÇÃO PRÁTICA PP-P001\n",
    "\n",
    "## Módulo: PROGRAMAÇÃO EM PYTHON"
   ]
  },
  {
   "cell_type": "markdown",
   "id": "249d3eb6",
   "metadata": {},
   "source": [
    "**Exercício 2: Manipulação de variáveis de tipo inteiro, explorando as características e os limites.** \n",
    "- Durante a aula foi apresentado o tipo de dado que permite representar um subconjunto dos números inteiros, as instaâncias da classe *int*. Sobre estes tipos de dados:\n",
    "    - Demonstre como funcionam os operadores aritméticos e aritméticos compostos em Python e destaque as principais novidades e diferenças em relação ao conjunto de operadores com inteiros disponíveis em __C/C++__;\n",
    "    - Demonstre a possibilidade de representar números inteiros significativamente grandes calculando o fatorial de 30 e comparando o resultado com o maior valor inteiro que pode ser representado em __C/C++__;\n",
    "    - As variáveis numéricas são imutáveis. Demonstre com exemplos as implicações desta afirmação;\n",
    "    - Verifique quais métodos estão disponíveis para as variáveis inteiras;"
   ]
  },
  {
   "cell_type": "code",
   "execution_count": 5,
   "id": "5abf7bfa",
   "metadata": {},
   "outputs": [
    {
     "name": "stdout",
     "output_type": "stream",
     "text": [
      "Soma de 20 + 5 = 25\n",
      "Subtração de 20 - 5 = 15\n",
      "Multiplicação de 20 * 5 = 100\n",
      "Divisão de 20 / 5 = 4.0\n",
      "Divisão Inteira de 20 // 5 = 4\n",
      "Resto da Divisão de 20 % 5 = 0\n",
      "Potência de 20 ** 5 = 3200000\n",
      "Atribuição Composta de a += 5 = 25\n",
      "Atribuição Composta de b *= 2 = 10\n"
     ]
    }
   ],
   "source": [
    "# Resposta\n",
    "\n",
    "#Demonstre como funcionam os operadores aritméticos e aritméticos compostos em Python\n",
    "\n",
    "\n",
    "# Operadores Aritméticos\n",
    "a = 20\n",
    "b = 5\n",
    "\n",
    "soma = a + b       \n",
    "print(f\"Soma de {a} + {b} = {soma}\")\n",
    "subtracao = a - b  \n",
    "print(f\"Subtração de {a} - {b} = {subtracao}\")\n",
    "multiplicacao = a * b  \n",
    "print(f\"Multiplicação de {a} * {b} = {multiplicacao}\")\n",
    "divisao = a / b    \n",
    "print(f\"Divisão de {a} / {b} = {divisao}\")\n",
    "divisao_inteira = a // b  \n",
    "print(f\"Divisão Inteira de {a} // {b} = {divisao_inteira}\")\n",
    "resto = a % b  \n",
    "print(f\"Resto da Divisão de {a} % {b} = {resto}\")\n",
    "potencia = a ** b  \n",
    "print(f\"Potência de {a} ** {b} = {potencia}\")\n",
    "\n",
    "# Atribuição Composta\n",
    "a += 5  \n",
    "print(f\"Atribuição Composta de a += 5 = {a}\")\n",
    "b *= 2  \n",
    "print(f\"Atribuição Composta de b *= 2 = {b}\")\n"
   ]
  },
  {
   "cell_type": "markdown",
   "metadata": {},
   "source": [
    "**Destaque as principais novidades e diferenças em relação ao conjunto de operadores com inteiros disponíveis em __C/C++__**\n",
    "\n",
    "**Resposta:**\n",
    "- Em Python, a divisão de inteiros resulta em um float se houver parte decimal.\n",
    "- Python usa // para divisão inteira, enquanto C/C++ usa /.*\n",
    "- Python suporta aritmética de precisão arbitrária para inteiros muito grandes."
   ]
  },
  {
   "cell_type": "code",
   "execution_count": 6,
   "metadata": {},
   "outputs": [
    {
     "name": "stdout",
     "output_type": "stream",
     "text": [
      "Fatorial de 30: 304888344611713860501504000000\n",
      "Maior inteiro em C/C++: 2147483647\n"
     ]
    }
   ],
   "source": [
    "#Demonstre a possibilidade de representar números inteiros significativamente grandes calculando o fatorial \n",
    "# de 30 e comparando o resultado com o maior valor inteiro que pode ser representado em C/C++;\n",
    "#Resposta\n",
    "\n",
    "def fatorial(num):\n",
    "    fat = 1\n",
    "    for i in range(1, num-1):\n",
    "        fat *= i\n",
    "    return fat\n",
    "\n",
    "# Maior valor inteiro em C/C++\n",
    "max_int_c = 2147483647\n",
    "\n",
    "print(f\"Fatorial de 30: {fatorial(30)}\")\n",
    "print(f\"Maior inteiro em C/C++: {max_int_c}\")"
   ]
  },
  {
   "cell_type": "code",
   "execution_count": 11,
   "metadata": {},
   "outputs": [
    {
     "name": "stdout",
     "output_type": "stream",
     "text": [
      "Valor de a inicialmente: 21\n",
      "Valor de b inicialmente: 21\n",
      "Valor de a depois do incremento de a: 26\n",
      "Valor de b depois do incremento de a: 21\n"
     ]
    }
   ],
   "source": [
    "#As variáveis numéricas são imutáveis. Demonstre com exemplos as implicações desta afirmação;\n",
    "#Resposta\n",
    "\n",
    "\n",
    "a = 21\n",
    "b = a\n",
    "print(f\"Valor de a inicialmente: {a}\")\n",
    "print(f\"Valor de b inicialmente: {b}\")\n",
    "a += 5\n",
    "print(f\"Valor de a depois do incremento de a: {a}\")\n",
    "print(f\"Valor de b depois do incremento de a: {b}\")\n"
   ]
  },
  {
   "cell_type": "code",
   "execution_count": 16,
   "metadata": {},
   "outputs": [
    {
     "name": "stdout",
     "output_type": "stream",
     "text": [
      "['__abs__', '__add__', '__and__', '__bool__', '__ceil__', '__class__', '__delattr__', '__dir__', '__divmod__', '__doc__', '__eq__', '__float__', '__floor__', '__floordiv__', '__format__', '__ge__', '__getattribute__', '__getnewargs__', '__getstate__', '__gt__', '__hash__', '__index__', '__init__', '__init_subclass__', '__int__', '__invert__', '__le__', '__lshift__', '__lt__', '__mod__', '__mul__', '__ne__', '__neg__', '__new__', '__or__', '__pos__', '__pow__', '__radd__', '__rand__', '__rdivmod__', '__reduce__', '__reduce_ex__', '__repr__', '__rfloordiv__', '__rlshift__', '__rmod__', '__rmul__', '__ror__', '__round__', '__rpow__', '__rrshift__', '__rshift__', '__rsub__', '__rtruediv__', '__rxor__', '__setattr__', '__sizeof__', '__str__', '__sub__', '__subclasshook__', '__truediv__', '__trunc__', '__xor__', 'as_integer_ratio', 'bit_count', 'bit_length', 'conjugate', 'denominator', 'from_bytes', 'imag', 'numerator', 'real', 'to_bytes']\n"
     ]
    }
   ],
   "source": [
    "#Verifique quais métodos estão disponíveis para as variáveis inteiras;\n",
    "#Resposta\n",
    "int(a)\n",
    "print(dir(a))\n",
    "\n",
    "\n"
   ]
  },
  {
   "cell_type": "markdown",
   "id": "4985658d",
   "metadata": {},
   "source": [
    "**Exercício 3: Manipulação de variáveis de tipo caractere e explorando o uso de print.**\n",
    "- Os caracteres numéricos aparecem na tabela ASCII, e em outras, numa sequência que começa pelo caractere ‘0’ até o caractere ‘9’. As strings em Python são formadas por conjuntos de caracteres que podem ser tratadas também como valores numéricos. Com base nestas afirmações desenvolva um programa em Python que:\n",
    "\t- Imprima na tela, utilizando cout, cada um dos caracteres numéricos e seu correspondente código numérico. Pesquise como modificar o comportamento do print para imprimir um objeto de tipo char como caractere e como número.\n",
    "\tExemplo:\n",
    "\t\t```shell\n",
    "\t\t‘0’ - 48\n",
    "\t\t‘1’ - 49\n",
    "\t\t…\n",
    "\t\t‘9’ - 57\n",
    "\t\t```\n",
    "\t- Modifique o exercício anterior para que a saída imprima também o código numérico em octal e em hexadecimal.\n",
    "\t- Acrescente ao código do exercício anterior a possibilidade de ler um caractere qualquer e imprima no mesmo formato do inciso anterior. Pesquise como ler um valor da entrada padrão.\n",
    "\t- Pesquise como trabalha Python os caracteres especiais,‘ç’ e ‘ã’ por exemplo. Acrescente no código do exercício anterior um exemplo que demonstra como usar este recurso.     "
   ]
  },
  {
   "cell_type": "code",
   "execution_count": 34,
   "id": "46d52660",
   "metadata": {},
   "outputs": [
    {
     "name": "stdout",
     "output_type": "stream",
     "text": [
      "'0' = 48\n",
      "'1' = 49\n",
      "'2' = 50\n",
      "'3' = 51\n",
      "'4' = 52\n",
      "'5' = 53\n",
      "'6' = 54\n",
      "'7' = 55\n",
      "'8' = 56\n",
      "'9' = 57\n"
     ]
    }
   ],
   "source": [
    "'''\n",
    "Imprima na tela, utilizando cout, cada um dos caracteres numéricos e seu correspondente código numérico. Pesquise como modificar o comportamento do print para imprimir um objeto de tipo char como caractere e como número.\n",
    "\tExemplo:\n",
    "\t\t‘0’ - 48\n",
    "\t\t‘1’ - 49\n",
    "\t\t…\n",
    "\t\t‘9’ - 5\n",
    "'''\n",
    "# Resposta\n",
    "\n",
    "\n",
    "lista = ['0','1', '2', '3', '4', '5', '6', '7', '8', '9']\n",
    "for i in lista:\n",
    "    print(f\"'{i}' = {ord(i)}\")\n"
   ]
  },
  {
   "cell_type": "code",
   "execution_count": 38,
   "metadata": {},
   "outputs": [
    {
     "name": "stdout",
     "output_type": "stream",
     "text": [
      "'0' = 48 = 0o60 = 0x30\n",
      "'1' = 49 = 0o61 = 0x31\n",
      "'2' = 50 = 0o62 = 0x32\n",
      "'3' = 51 = 0o63 = 0x33\n",
      "'4' = 52 = 0o64 = 0x34\n",
      "'5' = 53 = 0o65 = 0x35\n",
      "'6' = 54 = 0o66 = 0x36\n",
      "'7' = 55 = 0o67 = 0x37\n",
      "'8' = 56 = 0o70 = 0x38\n",
      "'9' = 57 = 0o71 = 0x39\n"
     ]
    }
   ],
   "source": [
    "#Modifique o exercício anterior para que a saída imprima também o código numérico em octal e em hexadecimal.\n",
    "#Resposta\n",
    "\n",
    "\n",
    "lista = ['0','1', '2', '3', '4', '5', '6', '7', '8', '9']\n",
    "for i in lista:\n",
    "    print(f\"'{i}' = {ord(i)} = {oct(ord(i))} = {hex(ord(i))}\")"
   ]
  },
  {
   "cell_type": "code",
   "execution_count": 3,
   "metadata": {},
   "outputs": [
    {
     "name": "stdout",
     "output_type": "stream",
     "text": [
      "'D' = 68 = 0o104 = 0x44\n"
     ]
    }
   ],
   "source": [
    "#Acrescente ao código do exercício anterior a possibilidade de ler um caractere qualquer e \n",
    "# imprima no mesmo formato do inciso anterior. Pesquise como ler um valor da entrada padrão.\n",
    "#Resposta\n",
    "\n",
    "\n",
    "char = input(\"Digite um caractere: \")\n",
    "print(f\"'{char}' = {ord(char)} = {oct(ord(char))} = {hex(ord(char))}\")"
   ]
  },
  {
   "cell_type": "code",
   "execution_count": 5,
   "metadata": {},
   "outputs": [
    {
     "name": "stdout",
     "output_type": "stream",
     "text": [
      "'ç' = 231 = 0o347 = 0xe7\n"
     ]
    }
   ],
   "source": [
    "#Pesquise como trabalha Python os caracteres especiais,‘ç’ e ‘ã’ por exemplo. \n",
    "# Acrescente no código do exercício anterior um exemplo que demonstra como usar este recurso.\n",
    "#Resposta\n",
    "\n",
    "char = input(\"Digite um caractere: \")\n",
    "print(f\"'{char}' = {ord(char)} = {oct(ord(char))} = {hex(ord(char))}\")"
   ]
  },
  {
   "cell_type": "markdown",
   "id": "92dc8af3",
   "metadata": {},
   "source": [
    "**Exercício 4: Manipulação de variáveis de tipo string e explorando os métodos da classe.**  \n",
    "- As variáveis de tipo string possuem uma série de funcionalidades já implementadas e seus caracteres e substrings podem ser acessados usando indexação e slicing. Crie um exemplo onde:  \n",
    "    - Declare uma variável nome atribuindo a ela seu nome completo;  \n",
    "    - Pesquise por funcionalidades já implementadas nas strings e separe em duas variáveis novas seu nome do seu sobrenome;  \n",
    "    - Verifique qual das duas novas variáveis antecede a outra na ordem alfabética;  \n",
    "    - Verifique a quantidade de caracteres de cada uma das novas variáveis;  \n",
    "    - Verifique se seu nome é uma palíndromo;  "
   ]
  },
  {
   "cell_type": "code",
   "execution_count": 47,
   "id": "1065c83a",
   "metadata": {},
   "outputs": [
    {
     "name": "stdout",
     "output_type": "stream",
     "text": [
      "David Vinícius Pereira Lima\n"
     ]
    }
   ],
   "source": [
    "#Declare uma variável nome atribuindo a ela seu nome completo;\n",
    "# Resposta\n",
    "\n",
    "nome = \"David Vinícius Pereira Lima\"\n",
    "print(nome)"
   ]
  },
  {
   "cell_type": "code",
   "execution_count": 48,
   "metadata": {},
   "outputs": [
    {
     "name": "stdout",
     "output_type": "stream",
     "text": [
      "27\n",
      "David Vinícius\n",
      "Pereira Lima\n"
     ]
    }
   ],
   "source": [
    "#Pesquise por funcionalidades já implementadas nas strings e separe em duas variáveis \n",
    "# novas seu nome do seu sobrenome;\n",
    "\n",
    "nomeP = nome.split(\" \")[0]+ \" \" + nome.split(\" \")[1]\n",
    "print(len(nome))\n",
    "sobrenome = nome.split(\" \")[2]+\" \"+nome.split(\" \")[3]\n",
    "print(nomeP)\n",
    "print(sobrenome)"
   ]
  },
  {
   "cell_type": "code",
   "execution_count": 49,
   "metadata": {},
   "outputs": [
    {
     "name": "stdout",
     "output_type": "stream",
     "text": [
      "David Vinícius vem antes de Pereira Lima\n"
     ]
    }
   ],
   "source": [
    "#Verifique qual das duas novas variáveis antecede a outra na ordem alfabética; \n",
    "#Resposta\n",
    "if nomeP < sobrenome:\n",
    "    print(f\"{nomeP} vem antes de {sobrenome}\")\n",
    "else:\n",
    "    print(f\"{sobrenome} vem antes de {nomeP}\")"
   ]
  },
  {
   "cell_type": "code",
   "execution_count": 50,
   "metadata": {},
   "outputs": [
    {
     "name": "stdout",
     "output_type": "stream",
     "text": [
      "Quantidade de caracteres em David Vinícius: 14\n",
      "Quantidade de caracteres em Pereira Lima: 12\n"
     ]
    }
   ],
   "source": [
    "#Verifique a quantidade de caracteres de cada uma das novas variáveis;\n",
    "# Resposta\n",
    "\n",
    "print(f\"Quantidade de caracteres em {nomeP}: {len(nomeP)}\")\n",
    "print(f\"Quantidade de caracteres em {sobrenome}: {len(sobrenome)}\") "
   ]
  },
  {
   "cell_type": "code",
   "execution_count": 51,
   "metadata": {},
   "outputs": [
    {
     "name": "stdout",
     "output_type": "stream",
     "text": [
      "David Vinícius não é um palíndromo\n"
     ]
    }
   ],
   "source": [
    "#Verifique se seu nome é uma palíndromo;\n",
    "# Resposta\n",
    "\n",
    "\n",
    "if nomeP == nomeP[::-1]:\n",
    "    print(f\"{nomeP} é um palíndromo\")\n",
    "else:\n",
    "    print(f\"{nomeP} não é um palíndromo\")"
   ]
  },
  {
   "cell_type": "markdown",
   "id": "fbcdba86",
   "metadata": {},
   "source": [
    "**Exercício 5: Manipulação de variáveis de ponto flutuante, explorando as características e os limites.**  \n",
    "- Durante a aula foi apresentado o tipo de dado que permite representar um subconjunto dos números de ponto flutuante. Sobre estes tipos de dados:  \n",
    "    - Demonstre como funcionam os operadores aritméticos e aritméticos compostos em Python;  \n",
    "    - Utilizando o operador de exponenciação mostre qual a maior e a menor potência de 2 que pode ser representada com variáveis de ponto flutuante.  \n",
    "    - As variáveis numéricas são imutáveis. Demonstre com exemplos as implicações desta afirmação;  \n",
    "    - Verifique quais métodos estão disponíveis para as variáveis de ponto flutuante;  "
   ]
  },
  {
   "cell_type": "code",
   "execution_count": 52,
   "id": "3d18ca28",
   "metadata": {},
   "outputs": [
    {
     "name": "stdout",
     "output_type": "stream",
     "text": [
      "Soma de 6.66 + 21.414 = 28.074\n",
      "Subtração de 6.66 - 21.414 = -14.754000000000001\n",
      "Multiplicação de 6.66 * 21.414 = 142.61724\n",
      "Divisão de 6.66 / 21.414 = 0.31101148781171195\n",
      "Divisão Inteira de 6.66 // 21.414 = 0.0\n",
      "Resto da Divisão de 6.66 % 21.414 = 6.66\n",
      "Potência de 6.66 ** 21.414 = 4.304048370537568e+17\n",
      "Atribuição Composta de a += 5 = 11.66\n",
      "Atribuição Composta de b *= 2 = 42.828\n"
     ]
    }
   ],
   "source": [
    "# Demonstre como funcionam os operadores aritméticos e aritméticos compostos em Python;  \n",
    "# Resposta\n",
    "\n",
    "a = 6.66\n",
    "b = 21.414\n",
    "\n",
    "soma = a + b       \n",
    "print(f\"Soma de {a} + {b} = {soma}\")\n",
    "subtracao = a - b  \n",
    "print(f\"Subtração de {a} - {b} = {subtracao}\")\n",
    "multiplicacao = a * b  \n",
    "print(f\"Multiplicação de {a} * {b} = {multiplicacao}\")\n",
    "divisao = a / b    \n",
    "print(f\"Divisão de {a} / {b} = {divisao}\")\n",
    "divisao_inteira = a // b  \n",
    "print(f\"Divisão Inteira de {a} // {b} = {divisao_inteira}\")\n",
    "resto = a % b  \n",
    "print(f\"Resto da Divisão de {a} % {b} = {resto}\")\n",
    "potencia = a ** b  \n",
    "print(f\"Potência de {a} ** {b} = {potencia}\")\n",
    "\n",
    "# Atribuição Composta\n",
    "a += 5  \n",
    "print(f\"Atribuição Composta de a += 5 = {a}\")\n",
    "b *= 2  \n",
    "print(f\"Atribuição Composta de b *= 2 = {b}\")\n",
    "\n"
   ]
  },
  {
   "cell_type": "code",
   "execution_count": 55,
   "metadata": {},
   "outputs": [
    {
     "name": "stdout",
     "output_type": "stream",
     "text": [
      "Maior potência de 2 representável: 2^179769313486231590772930519078902473361797697894230657273430081157732675805500963132708477322407536021120113879871393357658789768814416622492847430639474124377767893424865485276302219601246094119453082952085005768838150682342462881473913110540827237163350510684586298239947245938479716304835356329624224137216\n",
      "Menor potência de 2 representável: 2^4.450147717014403e-308\n"
     ]
    }
   ],
   "source": [
    "#Utilizando o operador de exponenciação mostre qual \n",
    "#a maior e a menor potência de 2 que pode ser representada com variáveis de ponto flutuante.\n",
    "# Resposta\n",
    "\n",
    "import sys\n",
    "\n",
    "max_pot = 2 ** sys.float_info.max_exp\n",
    "min_pot = 2 ** sys.float_info.min_exp\n",
    "\n",
    "print(f\"Maior potência de 2 representável: {max_pot}\")\n",
    "print(f\"Menor potência de 2 representável: {min_pot}\")"
   ]
  },
  {
   "cell_type": "code",
   "execution_count": 58,
   "metadata": {},
   "outputs": [
    {
     "name": "stdout",
     "output_type": "stream",
     "text": [
      "Valor de a inicialmente: 21.414\n",
      "Valor de b inicialmente: 21.414\n",
      "Valor de a depois do incremento de a: 26.814\n",
      "Valor de b depois do incremento de a: 21.414\n"
     ]
    }
   ],
   "source": [
    "#As variáveis numéricas são imutáveis. Demonstre com exemplos as implicações desta afirmação;\n",
    "# Resposta\n",
    "\n",
    "a = 21.414\n",
    "b = a\n",
    "print(f\"Valor de a inicialmente: {a}\")\n",
    "print(f\"Valor de b inicialmente: {b}\")\n",
    "a += 5.4\n",
    "print(f\"Valor de a depois do incremento de a: {a}\")\n",
    "print(f\"Valor de b depois do incremento de a: {b}\")\n"
   ]
  },
  {
   "cell_type": "code",
   "execution_count": 64,
   "metadata": {},
   "outputs": [
    {
     "name": "stdout",
     "output_type": "stream",
     "text": [
      "['__abs__', '__add__', '__bool__', '__ceil__', '__class__', '__delattr__', '__dir__', '__divmod__', '__doc__', '__eq__', '__float__', '__floor__', '__floordiv__', '__format__', '__ge__', '__getattribute__', '__getformat__', '__getnewargs__', '__getstate__', '__gt__', '__hash__', '__init__', '__init_subclass__', '__int__', '__le__', '__lt__', '__mod__', '__mul__', '__ne__', '__neg__', '__new__', '__pos__', '__pow__', '__radd__', '__rdivmod__', '__reduce__', '__reduce_ex__', '__repr__', '__rfloordiv__', '__rmod__', '__rmul__', '__round__', '__rpow__', '__rsub__', '__rtruediv__', '__setattr__', '__sizeof__', '__str__', '__sub__', '__subclasshook__', '__truediv__', '__trunc__', 'as_integer_ratio', 'conjugate', 'fromhex', 'hex', 'imag', 'is_integer', 'real']\n"
     ]
    }
   ],
   "source": [
    "#Verifique quais métodos estão disponíveis para as variáveis de ponto flutuante;\n",
    "# Resposta\n",
    "\n",
    "float(a)\n",
    "print(dir(a))"
   ]
  },
  {
   "cell_type": "markdown",
   "id": "5bc297e3",
   "metadata": {},
   "source": [
    "**Exercício 6: Manipulando listas**\n",
    "- Dado o seguinte código, e antes de implementar, veja o que será impresso em cada caso:\n",
    "\n",
    "```python\n",
    "L = [1,2,3,4,5,6,7,8,9]\n",
    "print(L[::-1]) \n",
    "print(L[-1::]) \n",
    "print(L[:-1:]) \n",
    "print(L[::-2])\n",
    "print(L[-2::]) \n",
    "print(L[:-2:]) \n",
    "```\n",
    "\n",
    "- Uma forma simplificada de determinar o seu animal no zodiaco chines é apresentada na seguinte tabela:\n",
    "\n",
    "| ano de nascimento % 12 | Signo   | \n",
    "|------------------------|---------|\n",
    "|  0                     | Macaco  |\n",
    "|  1                     | Galo    |\n",
    "|  2                     | Cão     |\n",
    "|  3                     | Porco   |\n",
    "|  4                     | Rato    |\n",
    "|  5                     | Boi     |\n",
    "|  6                     | Tigre   |\n",
    "|  7                     | Coelho  |\n",
    "|  8                     | Dragão  |\n",
    "|  9                     | Serpente|\n",
    "|  10                    | Cavalo  |\n",
    "|  11                    | Carneiro|\n",
    "\n",
    "Descubra qual o signo de um usuário de acordo com seu ano de nascimento.\n"
   ]
  },
  {
   "cell_type": "code",
   "execution_count": 65,
   "id": "1d9dcd44",
   "metadata": {},
   "outputs": [
    {
     "name": "stdout",
     "output_type": "stream",
     "text": [
      "[9, 8, 7, 6, 5, 4, 3, 2, 1]\n",
      "[9]\n",
      "[1, 2, 3, 4, 5, 6, 7, 8]\n",
      "[9, 7, 5, 3, 1]\n",
      "[8, 9]\n",
      "[1, 2, 3, 4, 5, 6, 7]\n"
     ]
    }
   ],
   "source": [
    "#Dado o seguinte código, e antes de implementar, veja o que será impresso em cada caso:\n",
    "# Resposta\n",
    "\n",
    "\n",
    "L = [1,2,3,4,5,6,7,8,9]\n",
    "#Imprime a lista invertida. \n",
    "print(L[::-1]) \n",
    "\n",
    "# Imprime o último elemento da lista.\n",
    "print(L[-1::])\n",
    "\n",
    "#Imprime todos os elementos da lista, exceto o último.\n",
    "print(L[:-1:]) \n",
    "\n",
    "#Imprime a lista invertida pulando de 2 em 2\n",
    "print(L[::-2])\n",
    "\n",
    "#Imprime o penultimo e o ultimo elemento da lista\n",
    "print(L[-2::]) \n",
    "\n",
    "#Imprime todos os elementos da lista, exceto os dois últimos.\n",
    "print(L[:-2:]) "
   ]
  },
  {
   "cell_type": "code",
   "execution_count": 66,
   "metadata": {},
   "outputs": [
    {
     "name": "stdout",
     "output_type": "stream",
     "text": [
      "Signo: Serpente\n"
     ]
    }
   ],
   "source": [
    "'''\n",
    "Uma forma simplificada de determinar o seu animal no zodiaco chines é apresentada na seguinte tabela:\n",
    "\n",
    "| ano de nascimento % 12 | Signo   | \n",
    "|------------------------|---------|\n",
    "|  0                     | Macaco  |\n",
    "|  1                     | Galo    |\n",
    "|  2                     | Cão     |\n",
    "|  3                     | Porco   |\n",
    "|  4                     | Rato    |\n",
    "|  5                     | Boi     |\n",
    "|  6                     | Tigre   |\n",
    "|  7                     | Coelho  |\n",
    "|  8                     | Dragão  |\n",
    "|  9                     | Serpente|\n",
    "|  10                    | Cavalo  |\n",
    "|  11                    | Carneiro|\n",
    "\n",
    "Descubra qual o signo de um usuário de acordo com seu ano de nascimento.\n",
    "'''\n",
    "# Resposta\n",
    "\n",
    "ano = int(input(\"Digite o ano de nascimento: \"))\n",
    "if ano % 12 == 0:\n",
    "    signo = \"Macaco\"\n",
    "elif ano % 12 == 1:\n",
    "    signo = \"Galo\"\n",
    "elif ano % 12 == 2:\n",
    "    signo = \"Cão\"\n",
    "elif ano % 12 == 3:\n",
    "    signo = \"Porco\"\n",
    "elif ano % 12 == 4:\n",
    "    signo = \"Rato\"\n",
    "elif ano % 12 == 5:\n",
    "    signo = \"Boi\"\n",
    "elif ano % 12 == 6:\n",
    "    signo = \"Tigre\"\n",
    "elif ano % 12 == 7:\n",
    "    signo = \"Coelho\"\n",
    "elif ano % 12 == 8:\n",
    "    signo = \"Dragão\"\n",
    "elif ano % 12 == 9:\n",
    "    signo = \"Serpente\"\n",
    "elif ano % 12 == 10:\n",
    "    signo = \"Cavalo\"\n",
    "elif ano % 12 == 11:\n",
    "    signo = \"Carneiro\"\n",
    "\n",
    "print(f\"Signo: {signo}\")\n"
   ]
  }
 ],
 "metadata": {
  "kernelspec": {
   "display_name": "Python 3 (ipykernel)",
   "language": "python",
   "name": "python3"
  },
  "language_info": {
   "codemirror_mode": {
    "name": "ipython",
    "version": 3
   },
   "file_extension": ".py",
   "mimetype": "text/x-python",
   "name": "python",
   "nbconvert_exporter": "python",
   "pygments_lexer": "ipython3",
   "version": "3.11.4"
  }
 },
 "nbformat": 4,
 "nbformat_minor": 5
}

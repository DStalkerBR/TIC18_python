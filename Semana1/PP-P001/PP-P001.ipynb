{
 "cells": [
  {
   "cell_type": "markdown",
   "id": "79890000",
   "metadata": {},
   "source": [
    "# INSTRUÇÃO PRÁTICA PP-P001\n",
    "\n",
    "## Módulo: PROGRAMAÇÃO EM PYTHON"
   ]
  },
  {
   "cell_type": "markdown",
   "id": "249d3eb6",
   "metadata": {},
   "source": [
    "**Exercício 2: Manipulação de variáveis de tipo inteiro, explorando as características e os limites.** \n",
    "- Durante a aula foi apresentado o tipo de dado que permite representar um subconjunto dos números inteiros, as instaâncias da classe *int*. Sobre estes tipos de dados:\n",
    "    - Demonstre como funcionam os operadores aritméticos e aritméticos compostos em Python e destaque as principais novidades e diferenças em relação ao conjunto de operadores com inteiros disponíveis em __C/C++__;\n",
    "    - Demonstre a possibilidade de representar números inteiros significativamente grandes calculando o fatorial de 30 e comparando o resultado com o maior valor inteiro que pode ser representado em __C/C++__;\n",
    "    - As variáveis numéricas são imutáveis. Demonstre com exemplos as implicações desta afirmação;\n",
    "    - Verifique quais métodos estão disponíveis para as variáveis inteiras;"
   ]
  },
  {
   "cell_type": "code",
   "execution_count": 1,
   "id": "5abf7bfa",
   "metadata": {},
   "outputs": [],
   "source": [
    "#Operadores Aritméticos\n",
    "a = 5\n",
    "b = 2\n",
    "\n",
    "# Adição\n",
    "c = a + b  # Resultado: 7\n",
    "\n",
    "# Subtração\n",
    "d = a - b  # Resultado: 3\n",
    "\n",
    "# Multiplicação\n",
    "e = a * b  # Resultado: 10\n",
    "\n",
    "# Divisão\n",
    "f = a / b  # Resultado: 2.5 (em Python 3, a divisão de inteiros retorna um número de ponto flutuante)\n",
    "\n",
    "# Resto da divisão\n",
    "g = a % b  # Resultado: 1\n"
   ]
  },
  {
   "cell_type": "code",
   "execution_count": 2,
   "metadata": {},
   "outputs": [],
   "source": [
    "#Operadores Compostos\n",
    "a += 3  # Equivalente a: a = a + 3\n",
    "b -= 1  # Equivalente a: b = b - 1\n",
    "\n"
   ]
  },
  {
   "cell_type": "code",
   "execution_count": null,
   "metadata": {},
   "outputs": [],
   "source": [
    "#Representação de Números Inteiros Grandes\n",
    "\n",
    "fatorial_30 = 1\n",
    "for i in range(1, 31):\n",
    "    fatorial_30 *= i\n",
    "\n",
    "print(\"Fatorial de 30:\", fatorial_30)\n"
   ]
  },
  {
   "cell_type": "markdown",
   "metadata": {},
   "source": [
    "# Variáveis Númericas Imutáveis\n",
    "\n",
    "x = 10\n",
    "y = x  # y agora tem o mesmo valor que x\n",
    "\n",
    "# Isso não afeta x, pois estamos criando uma nova variável com o mesmo nome\n",
    "x = 20\n",
    "print(\"x:\", x)  # Resultado: 20\n",
    "print(\"y:\", y)  # Resultado: 10"
   ]
  },
  {
   "cell_type": "markdown",
   "metadata": {},
   "source": [
    "# Métodos Disponíveis para Variáveis Inteiras\n",
    "\n",
    "num = 42\n",
    "\n",
    "# Verificar se é par\n",
    "print(num.bit_length())  # Retorna o número de bits necessário para representar o número (6 no caso de 42)\n",
    "\n",
    "# Converter para string em binário, octal e hexadecimal\n",
    "print(bin(num))  # Resultado: '0b101010'\n",
    "print(oct(num))  # Resultado: '0o52'\n",
    "print(hex(num))  # Resultado: '0x2a'\n"
   ]
  },
  {
   "cell_type": "markdown",
   "id": "4985658d",
   "metadata": {},
   "source": [
    "**Exercício 3: Manipulação de variáveis de tipo caractere e explorando o uso de print.**\n",
    "- Os caracteres numéricos aparecem na tabela ASCII, e em outras, numa sequência que começa pelo caractere ‘0’ até o caractere ‘9’. As strings em Python são formadas por conjuntos de caracteres que podem ser tratadas também como valores numéricos. Com base nestas afirmações desenvolva um programa em Python que:\n",
    "\t- Imprima na tela, utilizando cout, cada um dos caracteres numéricos e seu correspondente código numérico. Pesquise como modificar o comportamento do print para imprimir um objeto de tipo char como caractere e como número.\n",
    "\tExemplo:\n",
    "\t\t```shell\n",
    "\t\t‘0’ - 48\n",
    "\t\t‘1’ - 49\n",
    "\t\t…\n",
    "\t\t‘9’ - 57\n",
    "\t\t```\n",
    "\t- Modifique o exercício anterior para que a saída imprima também o código numérico em octal e em hexadecimal.\n",
    "\t- Acrescente ao código do exercício anterior a possibilidade de ler um caractere qualquer e imprima no mesmo formato do inciso anterior. Pesquise como ler um valor da entrada padrão.\n",
    "\t- Pesquise como trabalha Python os caracteres especiais,‘ç’ e ‘ã’ por exemplo. Acrescente no código do exercício anterior um exemplo que demonstra como usar este recurso.     "
   ]
  },
  {
   "cell_type": "code",
   "execution_count": null,
   "id": "46d52660",
   "metadata": {},
   "outputs": [],
   "source": [
    "# Imprimir caracteres numéricos e seus códigos em decimal, octal e hexadecimal\n",
    "print(\"Imprimindo caracteres numéricos e seus códigos:\")\n",
    "for i in range(10):\n",
    "    print(f\"'{i}' - {ord(str(i))} - {oct(ord(str(i)))} - {hex(ord(str(i)))}\")\n",
    "\n",
    "# Ler um caractere da entrada padrão e imprimir informações semelhantes\n",
    "char_input = input(\"Digite um caractere: \")\n",
    "print(f\"'{char_input}' - {ord(char_input)} - {oct(ord(char_input))} - {hex(ord(char_input))}\")\n",
    "\n",
    "# Exemplo de caracteres especiais\n",
    "special_chars = 'çã'\n",
    "print(f\"Exemplo de caracteres especiais: '{special_chars}' - {ord('ç')} - {ord('ã')}\")\n",
    "\n"
   ]
  },
  {
   "cell_type": "markdown",
   "id": "92dc8af3",
   "metadata": {},
   "source": [
    "**Exercício 4: Manipulação de variáveis de tipo string e explorando os métodos da classe.**  \n",
    "- As variáveis de tipo string possuem uma série de funcionalidades já implementadas e seus caracteres e substrings podem ser acessados usando indexação e slicing. Crie um exemplo onde:  \n",
    "    - Declare uma variável nome atribuindo a ela seu nome completo;  \n",
    "    - Pesquise por funcionalidades já implementadas nas strings e separe em duas variáveis novas seu nome do seu sobrenome;  \n",
    "    - Verifique qual das duas novas variáveis antecede a outra na ordem alfabética;  \n",
    "    - Verifique a quantidade de caracteres de cada uma das novas variáveis;  \n",
    "    - Verifique se seu nome é uma palíndromo;  "
   ]
  },
  {
   "cell_type": "code",
   "execution_count": null,
   "id": "1065c83a",
   "metadata": {},
   "outputs": [],
   "source": [
    "# Declare uma variável nome atribuindo a ela seu nome completo\n",
    "nome_completo = \"Daniel Penedo\"\n",
    "\n",
    "# Pesquise por funcionalidades já implementadas nas strings\n",
    "# Separe em duas variáveis novas seu nome do seu sobrenome\n",
    "nome, sobrenome = nome_completo.split(maxsplit=1)\n",
    "\n",
    "# Verifique qual das duas novas variáveis antecede a outra na ordem alfabética\n",
    "ordem_alfabetica = sorted([nome, sobrenome])\n",
    "\n",
    "# Verifique a quantidade de caracteres de cada uma das novas variáveis\n",
    "tamanho_nome = len(nome)\n",
    "tamanho_sobrenome = len(sobrenome)\n",
    "\n",
    "# Verifique se seu nome é uma palíndromo\n",
    "e_palindromo = nome.lower() == nome.lower()[::-1]\n",
    "\n",
    "# Imprima os resultados\n",
    "print(\"Nome completo:\", nome_completo)\n",
    "print(\"Nome:\", nome)\n",
    "print(\"Sobrenome:\", sobrenome)\n",
    "print(\"Ordem alfabética:\", ordem_alfabetica)\n",
    "print(\"Tamanho do nome:\", tamanho_nome)\n",
    "print(\"Tamanho do sobrenome:\", tamanho_sobrenome)\n",
    "print(\"É um palíndromo:\", e_palindromo)\n"
   ]
  },
  {
   "cell_type": "markdown",
   "id": "fbcdba86",
   "metadata": {},
   "source": [
    "**Exercício 5: Manipulação de variáveis de ponto flutuante, explorando as características e os limites.**  \n",
    "- Durante a aula foi apresentado o tipo de dado que permite representar um subconjunto dos números de ponto flutuante. Sobre estes tipos de dados:  \n",
    "    - Demonstre como funcionam os operadores aritméticos e aritméticos compostos em Python;  \n",
    "    - Utilizando o operador de exponenciação mostre qual a maior e a menor potência de 2 que pode ser representada com variáveis de ponto flutuante.  \n",
    "    - As variáveis numéricas são imutáveis. Demonstre com exemplos as implicações desta afirmação;  \n",
    "    - Verifique quais métodos estão disponíveis para as variáveis de ponto flutuante;  "
   ]
  },
  {
   "cell_type": "code",
   "execution_count": null,
   "id": "3d18ca28",
   "metadata": {},
   "outputs": [],
   "source": [
    "# Operadores aritméticos\n",
    "a = 5.0\n",
    "b = 2.0\n",
    "\n",
    "soma = a + b\n",
    "subtracao = a - b\n",
    "multiplicacao = a * b\n",
    "divisao = a / b\n",
    "resto_divisao = a % b\n",
    "\n",
    "# Operadores aritméticos compostos\n",
    "a += 3.0  # Equivalente a: a = a + 3.0\n",
    "b -= 1.0  # Equivalente a: b = b - 1.0\n"
   ]
  },
  {
   "cell_type": "markdown",
   "metadata": {},
   "source": [
    "import sys\n",
    "\n",
    "# Maior potência de 2 representável\n",
    "maior_potencia_de_2 = sys.float_info.max_10_exp\n",
    "\n",
    "# Menor potência de 2 representável\n",
    "menor_potencia_de_2 = sys.float_info.min_10_exp\n",
    "\n",
    "print(\"Maior potência de 2 representável:\", 2 ** maior_potencia_de_2)\n",
    "print(\"Menor potência de 2 representável:\", 2 ** menor_potencia_de_2)\n"
   ]
  },
  {
   "cell_type": "markdown",
   "metadata": {},
   "source": [
    "# Variavéis númericas imutáveis\n",
    "x = 3.14\n",
    "y = x  # y agora tem o mesmo valor que x\n",
    "\n",
    "# Isso não afeta x, pois estamos criando uma nova variável com o mesmo nome\n",
    "x = 6.28\n",
    "print(\"x:\", x)  # Resultado: 6.28\n",
    "print(\"y:\", y)  # Resultado: 3.14\n"
   ]
  },
  {
   "cell_type": "markdown",
   "metadata": {},
   "source": [
    "# Métodos Disponíveis para Variáveis de Ponto Flutuante\n",
    "\n",
    "num = 3.14\n",
    "\n",
    "# Método para arredondar\n",
    "rounded_num = round(num, 2)  # Resultado: 3.14\n",
    "\n",
    "# Método para obter a parte inteira\n",
    "integer_part = int(num)  # Resultado: 3\n"
   ]
  },
  {
   "cell_type": "markdown",
   "id": "5bc297e3",
   "metadata": {},
   "source": [
    "**Exercício 6: Manipulando listas**\n",
    "- Dado o seguinte código, e antes de implementar, veja o que será impresso em cada caso:\n",
    "\n",
    "```python\n",
    "L = [1,2,3,4,5,6,7,8,9]\n",
    "print(L[::-1]) \n",
    "print(L[-1::]) \n",
    "print(L[:-1:]) \n",
    "print(L[::-2])\n",
    "print(L[-2::]) \n",
    "print(L[:-2:]) \n",
    "```\n",
    "\n",
    "- Uma forma simplificada de determinar o seu animal no zodiaco chines é apresentada na seguinte tabela:\n",
    "\n",
    "| ano de nascimento % 12 | Signo   | \n",
    "|------------------------|---------|\n",
    "|  0                     | Macaco  |\n",
    "|  1                     | Galo    |\n",
    "|  2                     | Cão     |\n",
    "|  3                     | Porco   |\n",
    "|  4                     | Rato    |\n",
    "|  5                     | Boi     |\n",
    "|  6                     | Tigre   |\n",
    "|  7                     | Coelho  |\n",
    "|  8                     | Dragão  |\n",
    "|  9                     | Serpente|\n",
    "|  10                    | Cavalo  |\n",
    "|  11                    | Carneiro|\n",
    "\n",
    "Descubra qual o signo de um usuário de acordo com seu ano de nascimento.\n"
   ]
  },
  {
   "cell_type": "code",
   "execution_count": null,
   "id": "1d9dcd44",
   "metadata": {},
   "outputs": [],
   "source": [
    "L = [1, 2, 3, 4, 5, 6, 7, 8, 9]\n",
    "\n",
    "# print(L[::-1]): Inverte a lista, resultando em [9, 8, 7, 6, 5, 4, 3, 2, 1].\n",
    "print(L[::-1]) \n",
    "\n",
    "# print(L[-1::]): Imprime o último elemento da lista, resultando em [9].\n",
    "print(L[-1::]) \n",
    "\n",
    "# print(L[:-1:]): Imprime todos os elementos da lista, exceto o último, resultando em [1, 2, 3, 4, 5, 6, 7, 8].\n",
    "print(L[:-1:]) \n",
    "\n",
    "# print(L[::-2]): Inverte a lista e imprime apenas os elementos nas posições ímpares, resultando em [9, 7, 5, 3, 1].\n",
    "print(L[::-2]) \n",
    "\n",
    "# print(L[-2::]): Imprime os dois últimos elementos da lista, resultando em [8, 9].\n",
    "print(L[-2::]) \n",
    "\n",
    "# print(L[:-2:]): Imprime todos os elementos da lista, exceto os dois últimos, resultando em [1, 2, 3, 4, 5, 6, 7].\n",
    "print(L[:-2:]) \n"
   ]
  },
  {
   "cell_type": "markdown",
   "metadata": {},
   "source": [
    "# Solicita ao usuário o ano de nascimento\n",
    "ano_nascimento = int(input(\"Digite o ano de nascimento: \"))\n",
    "\n",
    "# Determina o signo com base no ano de nascimento\n",
    "signos_chineses = [\"Macaco\", \"Galo\", \"Cão\", \"Porco\", \"Rato\", \"Boi\", \"Tigre\", \"Coelho\", \"Dragão\", \"Serpente\", \"Cavalo\", \"Carneiro\"]\n",
    "signo = signos_chineses[ano_nascimento % 12]\n",
    "\n",
    "# Exibe o resultado\n",
    "print(f\"Seu signo do zodíaco chinês é: {signo}\")\n"
   ]
  }
 ],
 "metadata": {
  "kernelspec": {
   "display_name": "Python 3 (ipykernel)",
   "language": "python",
   "name": "python3"
  },
  "language_info": {
   "codemirror_mode": {
    "name": "ipython",
    "version": 3
   },
   "file_extension": ".py",
   "mimetype": "text/x-python",
   "name": "python",
   "nbconvert_exporter": "python",
   "pygments_lexer": "ipython3",
   "version": "3.11.7"
  }
 },
 "nbformat": 4,
 "nbformat_minor": 5
}

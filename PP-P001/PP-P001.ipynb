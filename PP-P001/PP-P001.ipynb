{
 "cells": [
  {
   "cell_type": "markdown",
   "id": "79890000",
   "metadata": {},
   "source": [
    "# INSTRUÇÃO PRÁTICA PP-P001\n",
    "\n",
    "## Módulo: PROGRAMAÇÃO EM PYTHON"
   ]
  },
  {
   "cell_type": "markdown",
   "id": "249d3eb6",
   "metadata": {},
   "source": [
    "**Exercício 2: Manipulação de variáveis de tipo inteiro, explorando as características e os limites.** \n",
    "- Durante a aula foi apresentado o tipo de dado que permite representar um subconjunto dos números inteiros, as instaâncias da classe *int*. Sobre estes tipos de dados:\n",
    "    - Demonstre como funcionam os operadores aritméticos e aritméticos compostos em Python e destaque as principais novidades e diferenças em relação ao conjunto de operadores com inteiros disponíveis em __C/C++__;\n",
    "    - Demonstre a possibilidade de representar números inteiros significativamente grandes calculando o fatorial de 30 e comparando o resultado com o maior valor inteiro que pode ser representado em __C/C++__;\n",
    "    - As variáveis numéricas são imutáveis. Demonstre com exemplos as implicações desta afirmação;\n",
    "    - Verifique quais métodos estão disponíveis para as variáveis inteiras;"
   ]
  },
  {
   "cell_type": "code",
   "execution_count": null,
   "id": "5abf7bfa",
   "metadata": {},
   "outputs": [],
   "source": [
    "# Resposta"
   ]
  },
  {
   "cell_type": "markdown",
   "id": "4985658d",
   "metadata": {},
   "source": [
    "**Exercício 3: Manipulação de variáveis de tipo caractere e explorando o uso de print.**\n",
    "- Os caracteres numéricos aparecem na tabela ASCII, e em outras, numa sequência que começa pelo caractere ‘0’ até o caractere ‘9’. As strings em Python são formadas por conjuntos de caracteres que podem ser tratadas também como valores numéricos. Com base nestas afirmações desenvolva um programa em Python que:\n",
    "\t- Imprima na tela, utilizando cout, cada um dos caracteres numéricos e seu correspondente código numérico. Pesquise como modificar o comportamento do print para imprimir um objeto de tipo char como caractere e como número.  \n",
    "\tExemplo:  \n",
    "\t\t‘0’ - 48  \n",
    "\t\t‘1’ - 49  \n",
    "\t\t…   \n",
    "\t\t‘9’ - 57  \n",
    "\t- Modifique o exercício anterior para que a saída imprima também o código numérico em octal e em hexadecimal.\n",
    "\t- Acrescente ao código do exercício anterior a possibilidade de ler um caractere qualquer e imprima no mesmo formato do inciso anterior. Pesquise como ler um valor da entrada padrão.\n",
    "\t- Pesquise como trabalha Python os caracteres especiais,‘ç’ e ‘ã’ por exemplo. Acrescente no código do exercício anterior um exemplo que demonstra como usar este recurso.     "
   ]
  },
  {
   "cell_type": "code",
   "execution_count": null,
   "id": "46d52660",
   "metadata": {},
   "outputs": [],
   "source": [
    "# Resposta"
   ]
  },
  {
   "cell_type": "markdown",
   "id": "92dc8af3",
   "metadata": {},
   "source": [
    "**Exercício 4: Manipulação de variáveis de tipo string e explorando os métodos da classe.**  \n",
    "- As variáveis de tipo string possuem uma série de funcionalidades já implementadas e seus caracteres e substrings podem ser acessados usando indexação e slicing. Crie um exemplo onde:  \n",
    "    - Declare uma variável nome atribuindo a ela seu nome completo;  \n",
    "    - Pesquise por funcionalidades já implementadas nas strings e separe em duas variáveis novas seu nome do seu sobrenome;  \n",
    "    - Verifique qual das duas novas variáveis antecede a outra na ordem alfabética;  \n",
    "    - Verifique a quantidade de caracteres de cada uma das novas variáveis;  \n",
    "    - Verifique se seu nome é uma palíndromo;  "
   ]
  },
  {
   "cell_type": "code",
   "execution_count": null,
   "id": "1065c83a",
   "metadata": {},
   "outputs": [],
   "source": [
    "# Resposta"
   ]
  },
  {
   "cell_type": "markdown",
   "id": "fbcdba86",
   "metadata": {},
   "source": [
    "**Exercício 5: Manipulação de variáveis de ponto flutuante, explorando as características e os limites.**  \n",
    "- Durante a aula foi apresentado o tipo de dado que permite representar um subconjunto dos números de ponto flutuante. Sobre estes tipos de dados:  \n",
    "    - Demonstre como funcionam os operadores aritméticos e aritméticos compostos em Python;  \n",
    "    - Utilizando o operador de exponenciação mostre qual a maior e a menor potência de 2 que pode ser representada com variáveis de ponto flutuante.  \n",
    "    - As variáveis numéricas são imutáveis. Demonstre com exemplos as implicações desta afirmação;  \n",
    "    - Verifique quais métodos estão disponíveis para as variáveis de ponto flutuante;  "
   ]
  },
  {
   "cell_type": "code",
   "execution_count": null,
   "id": "3d18ca28",
   "metadata": {},
   "outputs": [],
   "source": [
    "# Resposta"
   ]
  },
  {
   "cell_type": "markdown",
   "id": "5bc297e3",
   "metadata": {},
   "source": [
    "**Exercício 6: Manipulando listas**\n",
    "- Dado o seguinte código, e antes de implementar, veja o que será impresso em cada caso:\n",
    "\n",
    "```python\n",
    "L = [1,2,3,4,5,6,7,8,9]\n",
    "print(L[::-1]) \n",
    "print(L[-1::]) \n",
    "print(L[:-1:]) \n",
    "print(L[::-2])\n",
    "print(L[-2::]) \n",
    "print(L[:-2:]) \n",
    "```\n",
    "\n",
    "- Uma forma simplificada de determinar o seu animal no zodiaco chines é apresentada na seguinte tabela:\n",
    "\n",
    "| ano de nascimento % 12 | Signo   | \n",
    "|------------------------|---------|\n",
    "|  0                     | Macaco  |\n",
    "|  1                     | Galo    |\n",
    "|  2                     | Cão     |\n",
    "|  3                     | Porco   |\n",
    "|  4                     | Rato    |\n",
    "|  5                     | Boi     |\n",
    "|  6                     | Tigre   |\n",
    "|  7                     | Coelho  |\n",
    "|  8                     | Dragão  |\n",
    "|  9                     | Serpente|\n",
    "|  10                    | Cavalo  |\n",
    "|  11                    | Carneiro|\n",
    "\n",
    "Descubra qual o signo de um usuário de acordo com seu ano de nascimento.\n"
   ]
  },
  {
   "cell_type": "code",
   "execution_count": null,
   "id": "1d9dcd44",
   "metadata": {},
   "outputs": [],
   "source": [
    "# Resposta"
   ]
  }
 ],
 "metadata": {
  "kernelspec": {
   "display_name": "Python 3 (ipykernel)",
   "language": "python",
   "name": "python3"
  },
  "language_info": {
   "codemirror_mode": {
    "name": "ipython",
    "version": 3
   },
   "file_extension": ".py",
   "mimetype": "text/x-python",
   "name": "python",
   "nbconvert_exporter": "python",
   "pygments_lexer": "ipython3",
   "version": "3.12.0"
  }
 },
 "nbformat": 4,
 "nbformat_minor": 5
}

{
 "cells": [
  {
   "cell_type": "markdown",
   "id": "79890000",
   "metadata": {},
   "source": [
    "# INSTRUÇÃO PRÁTICA PP-P001\n",
    "\n",
    "## Módulo: PROGRAMAÇÃO EM PYTHON"
   ]
  },
  {
   "cell_type": "markdown",
   "id": "249d3eb6",
   "metadata": {},
   "source": [
    "**Exercício 2: Manipulação de variáveis de tipo inteiro, explorando as características e os limites.** \n",
    "- Durante a aula foi apresentado o tipo de dado que permite representar um subconjunto dos números inteiros, as instâncias da classe *int*. Sobre estes tipos de dados:\n",
    "    - Demonstre como funcionam os operadores aritméticos e aritméticos compostos em Python e destaque as principais novidades e diferenças em relação ao conjunto de operadores com inteiros disponíveis em __C/C++__;\n",
    "    - Demonstre a possibilidade de representar números inteiros significativamente grandes calculando o fatorial de 30 e comparando o resultado com o maior valor inteiro que pode ser representado em __C/C++__;\n",
    "    - As variáveis numéricas são imutáveis. Demonstre com exemplos as implicações desta afirmação;\n",
    "    - Verifique quais métodos estão disponíveis para as variáveis inteiras;"
   ]
  },
  {
   "cell_type": "markdown",
   "metadata": {},
   "source": [
    "### Operações aritméticas com inteiros"
   ]
  },
  {
   "cell_type": "code",
   "execution_count": 51,
   "id": "5abf7bfa",
   "metadata": {},
   "outputs": [
    {
     "name": "stdout",
     "output_type": "stream",
     "text": [
      "---->Operadores aritméticos em Python\n",
      "    Adição     |-> 10 + 3 = 13 \n",
      "   Subtração   |-> 10 - 3 = 7 \n",
      " Multiplicação |-> 10 * 3 = 30 \n",
      "    Divisão    |-> 10 / 3 = 3.3333333333333335 \n",
      "Divisão Inteira|-> 10 // 3 = 3 \n",
      "    Módulo     |-> 10 % 3 = 1     \n",
      "  Potenciação  |-> 10 ** 3 = 1000 \n"
     ]
    }
   ],
   "source": [
    "a = 10\n",
    "b = 3\n",
    "\n",
    "print(\"---->Operadores aritméticos em Python\")\n",
    "soma = a + b\n",
    "print(f'{\"Adição\":^15}|-> {a} + {b} = {soma} ')\n",
    "subtracao = a - b \n",
    "print(f'{\"Subtração\":^15}|-> {a} - {b} = {subtracao} ')\n",
    "multiplicacao = a * b\n",
    "print(f'{\"Multiplicação\":^15}|-> {a} * {b} = {multiplicacao} ')\n",
    "divisao = a / b\n",
    "print(f'{\"Divisão\":^15}|-> {a} / {b} = {divisao} ')\n",
    "divisao_inteira = a // b\n",
    "print(f'{\"Divisão Inteira\":^15}|-> {a} // {b} = {divisao_inteira} ')\n",
    "modulo = a % b\n",
    "print(f'{\"Módulo\":^15}|-> {a} % {b} = {modulo}     ')\n",
    "potenciacao = a ** b\n",
    "print(f'{\"Potenciação\":^15}|-> {a} ** {b} = {potenciacao} ')\n"
   ]
  },
  {
   "cell_type": "markdown",
   "metadata": {},
   "source": [
    "### Operações aritméticas compostas com inteiros"
   ]
  },
  {
   "cell_type": "code",
   "execution_count": 52,
   "metadata": {},
   "outputs": [
    {
     "name": "stdout",
     "output_type": "stream",
     "text": [
      "---->Operadores aritméticos compostos em Python\n",
      "Considerando, x = 5:\n",
      "Adição e Atribuição           |-> (x += 3): x = 8\n",
      "Subtração e Atribuição        |-> (x -= 2): x = 3\n",
      "Multiplicação e Atribuição    |-> (x *= 4): x = 20\n",
      "Divisão e Atribuição          |-> (x /= 2): x = 2.5\n",
      "Divisão Inteira e Atribuição  |-> (x //= 3): x = 1\n",
      "Potenciação e Atribuição      |-> (x **= 3): x = 125\n",
      "Módulo e Atribuição           |-> (x %= 2): x = 1\n"
     ]
    }
   ],
   "source": [
    "print(\"---->Operadores aritméticos compostos em Python\")\n",
    "x = 5\n",
    "print(f\"Considerando, x = {x}:\")\n",
    "\n",
    "x += 3\n",
    "print(f'{\"Adição e Atribuição\":30}|-> (x += 3): x = {x}')\n",
    "\n",
    "x = 5\n",
    "x -= 2\n",
    "print(f'{\"Subtração e Atribuição\":30}|-> (x -= 2): x = {x}')\n",
    "\n",
    "x = 5\n",
    "x *= 4\n",
    "print(f'{\"Multiplicação e Atribuição\":30}|-> (x *= 4): x = {x}')\n",
    "\n",
    "x = 5\n",
    "x /= 2\n",
    "print(f'{\"Divisão e Atribuição\":30}|-> (x /= 2): x = {x}')\n",
    "\n",
    "x = 5\n",
    "x //= 3\n",
    "print(f'{\"Divisão Inteira e Atribuição\":30}|-> (x //= 3): x = {x}')\n",
    "\n",
    "x = 5\n",
    "x **= 3\n",
    "print(f'{\"Potenciação e Atribuição\":30}|-> (x **= 3): x = {x}')\n",
    "\n",
    "x = 5\n",
    "x %= 2\n",
    "print(f'{\"Módulo e Atribuição\":30}|-> (x %= 2): x = {x}')"
   ]
  },
  {
   "cell_type": "markdown",
   "metadata": {},
   "source": [
    "### Métodos disponíveis para objetos do tipo inteiro em Python"
   ]
  },
  {
   "cell_type": "code",
   "execution_count": 53,
   "metadata": {},
   "outputs": [
    {
     "name": "stdout",
     "output_type": "stream",
     "text": [
      "\n",
      "Métodos disponíveis para variáveis inteiras (excluindo métodos especiais):\n",
      "int.as_integer_ratio: Return a pair of integers, whose ratio is equal to the original int.\n",
      "int.bit_count: Number of ones in the binary representation of the absolute value of self.\n",
      "int.bit_length: Number of bits necessary to represent self in binary.\n",
      "int.conjugate: Returns self, the complex conjugate of any int.\n",
      "int.from_bytes: Return the integer represented by the given array of bytes.\n",
      "int.is_integer: Returns True. Exists for duck type compatibility with float.is_integer.\n",
      "int.to_bytes: Return an array of bytes representing an integer.\n"
     ]
    }
   ],
   "source": [
    "print(\"\\nMétodos disponíveis para variáveis inteiras (excluindo métodos especiais):\")\n",
    "\n",
    "for metodo in dir(int):\n",
    "    if callable(getattr(int, metodo)) and not metodo.startswith('__'):\n",
    "        print(f\"int.{metodo}: {getattr(int, metodo).__doc__.partition(\"\\n\")[0]}\")        "
   ]
  },
  {
   "cell_type": "code",
   "execution_count": 54,
   "id": "6d491813",
   "metadata": {},
   "outputs": [
    {
     "name": "stdout",
     "output_type": "stream",
     "text": [
      "\n",
      "\n",
      "Número de bits necessários para representar 42 em binário: 6\n",
      "Número de bits setados para 1 na representação binária de 42: 3\n",
      "Array de bytes representando o inteiro 42: b'\\x00*'\n",
      "Inteiro representado pelo array de bytes b'\\x00*': 42\n",
      "Parte real de 42: 42\n",
      "Parte imaginária de 42: 0\n",
      "Razão inteira de 42: (42, 1)\n",
      "42 é um número inteiro?: True\n"
     ]
    }
   ],
   "source": [
    "# Criando um objeto inteiro\n",
    "inteiro = 42\n",
    "\n",
    "# Obtendo o número de bits necessários para representar o inteiro em binário\n",
    "tamanho_bit = inteiro.bit_length()\n",
    "print(f\"\\n\\nNúmero de bits necessários para representar {inteiro} em binário: {tamanho_bit}\")\n",
    "\n",
    "# Contando o número de bits setados para 1 na representação binária do inteiro\n",
    "contador_bit = bin(inteiro).count('1')\n",
    "print(f\"Número de bits setados para 1 na representação binária de {inteiro}: {contador_bit}\")\n",
    "\n",
    "# Convertendo o inteiro para uma representação em bytes\n",
    "representacao_bytes = inteiro.to_bytes(2, byteorder='big', signed=False)\n",
    "print(f\"Array de bytes representando o inteiro {inteiro}: {representacao_bytes}\")\n",
    "\n",
    "# Convertendo a representação em bytes de volta para um inteiro\n",
    "numero = int.from_bytes(representacao_bytes, byteorder='big', signed=False)\n",
    "print(f\"Inteiro representado pelo array de bytes {representacao_bytes}: {numero}\")\n",
    "\n",
    "# Acessando a parte real, imaginária e razão inteira do inteiro\n",
    "print(f\"Parte real de {inteiro}: {inteiro.real}\")\n",
    "print(f\"Parte imaginária de {inteiro}: {inteiro.imag}\")\n",
    "print(f\"Razão inteira de {inteiro}: {inteiro.as_integer_ratio()}\")\n",
    "\n",
    "# Verificando se o inteiro é um número inteiro (método específico para objetos float)\n",
    "print(f\"{inteiro} é um número inteiro?: {inteiro.is_integer()}\")\n"
   ]
  },
  {
   "cell_type": "markdown",
   "metadata": {},
   "source": [
    "### Imutabilidade de variáveis  "
   ]
  },
  {
   "cell_type": "code",
   "execution_count": 55,
   "id": "072f97c7",
   "metadata": {},
   "outputs": [
    {
     "name": "stdout",
     "output_type": "stream",
     "text": [
      "a = 10\n",
      "b = a = 10\n",
      "b is a?  True\n",
      "a =  20\n",
      "b =  10\n",
      "b is a?  False\n"
     ]
    }
   ],
   "source": [
    "# Exemplo 1:\n",
    "a = 10\n",
    "b = a \n",
    "print(\"a =\", a)\n",
    "print(\"b = a =\", b)\n",
    "print(\"b is a? \", b is a)  # Verifica se a e b referem-se ao mesmo objeto \n",
    "a *= 2\n",
    "print(\"a = \", a)\n",
    "print(\"b = \", b)\n",
    "print(\"b is a? \", b is a)  # Após modificação, a e b referem-se a objetos diferentes"
   ]
  },
  {
   "cell_type": "markdown",
   "metadata": {},
   "source": [
    "Neste exemplo, a variável `a` é inicializada com o valor 10. Quando `b` é atribuído a `a`, ambos referem-se ao mesmo objeto inteiro na memória. No entanto, quando `a` é multiplicado por 2, isso cria um novo objeto inteiro na memória, resultando em `a` e `b` referindo-se a objetos diferentes."
   ]
  },
  {
   "cell_type": "code",
   "execution_count": 56,
   "metadata": {},
   "outputs": [
    {
     "name": "stdout",
     "output_type": "stream",
     "text": [
      "Contador =  0\n",
      "Contador Extra =  0\n",
      "Identidade de contador:  140710661159320\n",
      "Identidade de contador extra:  140710661159320\n",
      "Contador =  5\n",
      "Contador Extra =  0\n",
      "Identidade de contador:  140710661159480\n",
      "Identidade de contador extra:  140710661159320\n"
     ]
    }
   ],
   "source": [
    "# Exemplo 2:\n",
    "contador = 0\n",
    "contador_extra = contador\n",
    "print(\"Contador = \", contador)\n",
    "print(\"Contador Extra = \", contador_extra)\n",
    "print(\"Identidade de contador: \", id(contador)) # Mostra o endereço de memória do objeto contador\n",
    "print(\"Identidade de contador extra: \", id(contador_extra))\n",
    "contador += 5\n",
    "print(\"Contador = \", contador)\n",
    "print(\"Contador Extra = \", contador_extra)\n",
    "print(\"Identidade de contador: \", id(contador))  # Após modificação, contador e contador_extra referem-se a objetos diferentes\n",
    "print(\"Identidade de contador extra: \", id(contador_extra))"
   ]
  },
  {
   "cell_type": "markdown",
   "metadata": {},
   "source": [
    "Aqui, a variável `contador` é inicializada com o valor 0 e `contador_extra` inicializado com `contador`.  Fazendo com que `contador` e `contador_extra` tenham a mesma identidade inicialmente, mas após a modificação de `contador`, referem-se a objetos diferentes."
   ]
  },
  {
   "cell_type": "markdown",
   "metadata": {},
   "source": [
    "### Principais diferenças em relação a C/C++:\n",
    "\n",
    "- Python é dinamicamente tipado, então não há necessidade de declarar tipos de variáveis como visto nos exemplos anteriores.\n",
    "- Python não possui operadores de incremento/decremento (++/--).\n",
    "- Divisão padrão entre inteiros em Python sempre retorna float:"
   ]
  },
  {
   "cell_type": "code",
   "execution_count": 57,
   "metadata": {},
   "outputs": [
    {
     "name": "stdout",
     "output_type": "stream",
     "text": [
      "Divisão em Python: 3.3333333333333335\n"
     ]
    }
   ],
   "source": [
    "result_divisao = 10 / 3\n",
    "print(f'Divisão em Python: {result_divisao}')"
   ]
  },
  {
   "cell_type": "markdown",
   "metadata": {},
   "source": [
    "- Divisão por zero em Python gera uma exceção ZeroDivisionError, enquanto em em C++, resulta em comportamento indefinido"
   ]
  },
  {
   "cell_type": "code",
   "execution_count": 58,
   "metadata": {},
   "outputs": [
    {
     "name": "stdout",
     "output_type": "stream",
     "text": [
      "Erro: division by zero\n"
     ]
    }
   ],
   "source": [
    "try:\n",
    "    result_divisao_zero = 5 / 0\n",
    "except ZeroDivisionError as erro:\n",
    "    print(\"Erro:\", erro)"
   ]
  },
  {
   "cell_type": "markdown",
   "metadata": {},
   "source": [
    "- Python lida automaticamente com overflow em números inteiros, o que pode ser observado no código de fatorial abaixo:"
   ]
  },
  {
   "cell_type": "code",
   "execution_count": 59,
   "id": "d18b352c",
   "metadata": {},
   "outputs": [
    {
     "name": "stdout",
     "output_type": "stream",
     "text": [
      "A diferença entre o fatorial de 30 e o maior valor representado em C/C++:  265252859812191058636306332516353\n"
     ]
    }
   ],
   "source": [
    "# Calculando o fatorial de 30 \n",
    "def fatorial(num):\n",
    "    return 1 if num == 0 else num * fatorial(num - 1)\n",
    "\n",
    "print(\"A diferença entre o fatorial de 30 e o maior valor representado em C/C++: \", fatorial(30) - 2147483647)"
   ]
  },
  {
   "cell_type": "markdown",
   "id": "4985658d",
   "metadata": {},
   "source": [
    "**Exercício 3: Manipulação de variáveis de tipo caractere e explorando o uso de print.**\n",
    "- Os caracteres numéricos aparecem na tabela ASCII, e em outras, numa sequência que começa pelo caractere ‘0’ até o caractere ‘9’. As strings em Python são formadas por conjuntos de caracteres que podem ser tratadas também como valores numéricos. Com base nestas afirmações desenvolva um programa em Python que:\n",
    "\t- Imprima na tela, utilizando cout, cada um dos caracteres numéricos e seu correspondente código numérico. Pesquise como modificar o comportamento do print para imprimir um objeto de tipo char como caractere e como número.\n",
    "\tExemplo:\n",
    "\t\t```shell\n",
    "\t\t‘0’ - 48\n",
    "\t\t‘1’ - 49\n",
    "\t\t…\n",
    "\t\t‘9’ - 57\n",
    "\t\t```\n",
    "\t- Modifique o exercício anterior para que a saída imprima também o código numérico em octal e em hexadecimal.\n",
    "\t- Acrescente ao código do exercício anterior a possibilidade de ler um caractere qualquer e imprima no mesmo formato do inciso anterior. Pesquise como ler um valor da entrada padrão.\n",
    "\t- Pesquise como trabalha Python os caracteres especiais,‘ç’ e ‘ã’ por exemplo. Acrescente no código do exercício anterior um exemplo que demonstra como usar este recurso.     "
   ]
  },
  {
   "cell_type": "markdown",
   "metadata": {},
   "source": [
    "### Caracteres numéricos e seus códigos ASCII, octal e hexadecimal"
   ]
  },
  {
   "cell_type": "code",
   "execution_count": 60,
   "id": "46d52660",
   "metadata": {},
   "outputs": [
    {
     "name": "stdout",
     "output_type": "stream",
     "text": [
      "'0' - Decimal: 48, Octal: 0o60, Hexadecimal: 0x30\n",
      "'1' - Decimal: 49, Octal: 0o61, Hexadecimal: 0x31\n",
      "'2' - Decimal: 50, Octal: 0o62, Hexadecimal: 0x32\n",
      "'3' - Decimal: 51, Octal: 0o63, Hexadecimal: 0x33\n",
      "'4' - Decimal: 52, Octal: 0o64, Hexadecimal: 0x34\n",
      "'5' - Decimal: 53, Octal: 0o65, Hexadecimal: 0x35\n",
      "'6' - Decimal: 54, Octal: 0o66, Hexadecimal: 0x36\n",
      "'7' - Decimal: 55, Octal: 0o67, Hexadecimal: 0x37\n",
      "'8' - Decimal: 56, Octal: 0o70, Hexadecimal: 0x38\n",
      "'9' - Decimal: 57, Octal: 0o71, Hexadecimal: 0x39\n"
     ]
    }
   ],
   "source": [
    "resposta = input(\"Deseja informar um caractere? (s/n): \")\n",
    "\n",
    "if resposta.lower() == 's':\n",
    "    caractere = input(\"Digite um caractere: \")\n",
    "    print(f'\\'{caractere}\\' - Decimal: {ord(caractere)}, Octal: {oct(ord(caractere))}, Hexadecimal: {hex(ord(caractere))}')\n",
    "else:\n",
    "    # Executa o código anterior para números de 0 a 9\n",
    "    for num in range(10):\n",
    "        ascii_num = str(num)\n",
    "        print(f'\\'{ascii_num}\\' - Decimal: {ord(ascii_num)}, Octal: {oct(ord(ascii_num))}, Hexadecimal: {hex(ord(ascii_num))}')"
   ]
  },
  {
   "cell_type": "markdown",
   "metadata": {},
   "source": [
    "### Caracteres especiais em Python\n",
    "- Python oferece suporte a Unicode, permitindo lidar com caracteres de vários idiomas\n",
    "- Certificando que o script esteja codificado em UTF-8 é possível suportar uma ampla variedade de caracteres, uma forma é adicionar: `# *- coding: utf-8 -*-` ao código\n",
    "- Também é possível utilizar unicode diretamente na atribuição, como: \n",
    "    ```\n",
    "    unicode_cedilha = '\\u00e7'\n",
    "    unicode_til = '\\u00e3'\n",
    "    ```\n"
   ]
  },
  {
   "cell_type": "code",
   "execution_count": 61,
   "id": "786270cf",
   "metadata": {},
   "outputs": [
    {
     "name": "stdout",
     "output_type": "stream",
     "text": [
      "'ç' - Decimal: 231, Octal: 0o347, Hexadecimal: 0xe7\n",
      "'ã' - Decimal: 227, Octal: 0o343, Hexadecimal: 0xe3\n"
     ]
    }
   ],
   "source": [
    "# -*- coding: utf-8 -*-\n",
    "caractere_especial_1 = 'ç'\n",
    "caractere_especial_2 = 'ã'\n",
    "\n",
    "# Imprime os caracteres especiais e seus códigos, octal e hexadecimal\n",
    "print(f'\\'{caractere_especial_1}\\' - Decimal: {ord(caractere_especial_1)}, Octal: {oct(ord(caractere_especial_1))}, Hexadecimal: {hex(ord(caractere_especial_1))}')\n",
    "print(f'\\'{caractere_especial_2}\\' - Decimal: {ord(caractere_especial_2)}, Octal: {oct(ord(caractere_especial_2))}, Hexadecimal: {hex(ord(caractere_especial_2))}')\n"
   ]
  },
  {
   "cell_type": "markdown",
   "id": "92dc8af3",
   "metadata": {},
   "source": [
    "**Exercício 4: Manipulação de variáveis de tipo string e explorando os métodos da classe.**  \n",
    "- As variáveis de tipo string possuem uma série de funcionalidades já implementadas e seus caracteres e substrings podem ser acessados usando indexação e slicing. Crie um exemplo onde:  \n",
    "    - Declare uma variável nome atribuindo a ela seu nome completo;  \n",
    "    - Pesquise por funcionalidades já implementadas nas strings e separe em duas variáveis novas seu nome do seu sobrenome;  \n",
    "    - Verifique qual das duas novas variáveis antecede a outra na ordem alfabética;  \n",
    "    - Verifique a quantidade de caracteres de cada uma das novas variáveis;  \n",
    "    - Verifique se seu nome é uma palíndromo;  "
   ]
  },
  {
   "cell_type": "code",
   "execution_count": 62,
   "id": "1065c83a",
   "metadata": {},
   "outputs": [
    {
     "name": "stdout",
     "output_type": "stream",
     "text": [
      "Nome completo: Jhonata Araújo\n",
      "'Araújo' antecede 'Jhonata' alfabeticamente\n",
      "Quantidade caracteres de Jhonata: 7\n",
      "Quantidade caracteres de Araújo: 6\n",
      "O nome \"Jhonata\" não é um palíndromo.\n"
     ]
    }
   ],
   "source": [
    "nome = \"Jhonata Araújo\"\n",
    "print(f\"Nome completo: {nome}\")\n",
    "\n",
    "# Separa primeiro nome do Sobrenome\n",
    "primeiro_nome = nome[:nome.find(\" \")]\n",
    "sobrenome = nome[nome.find(\" \")+1:]\n",
    "\n",
    "# Verifica qual das duas novas variáveis antecede a outra na ordem alfabética\n",
    "if (primeiro_nome.lower() < sobrenome.lower()):\n",
    "    print(f\"'{primeiro_nome}' antecede '{sobrenome}' alfabeticamente\")\n",
    "else:   \n",
    "    print(f\"'{sobrenome}' antecede '{primeiro_nome}' alfabeticamente\")\n",
    "    \n",
    "# Verifica a quantidade de caracteres de cada uma das novas variáveis\n",
    "print(f\"Quantidade caracteres de {primeiro_nome}: {len(primeiro_nome)}\")\n",
    "print(f\"Quantidade caracteres de {sobrenome}: {len(sobrenome)}\")\n",
    "\n",
    "# Verifique se o primeiro nome é uma palíndromo\n",
    "if (nome.lower() == nome[::-1].lower()):\n",
    "      print(f'O nome \"{primeiro_nome}\" é um palíndromo.')\n",
    "else:\n",
    "    print(f'O nome \"{primeiro_nome}\" não é um palíndromo.')\n"
   ]
  },
  {
   "cell_type": "markdown",
   "id": "fbcdba86",
   "metadata": {},
   "source": [
    "**Exercício 5: Manipulação de variáveis de ponto flutuante, explorando as características e os limites.**  \n",
    "- Durante a aula foi apresentado o tipo de dado que permite representar um subconjunto dos números de ponto flutuante. Sobre estes tipos de dados:  \n",
    "    - Demonstre como funcionam os operadores aritméticos e aritméticos compostos em Python;  \n",
    "    - Utilizando o operador de exponenciação mostre qual a maior e a menor potência de 2 que pode ser representada com variáveis de ponto flutuante.  \n",
    "    - As variáveis numéricas são imutáveis. Demonstre com exemplos as implicações desta afirmação;  \n",
    "    - Verifique quais métodos estão disponíveis para as variáveis de ponto flutuante;  "
   ]
  },
  {
   "cell_type": "markdown",
   "metadata": {},
   "source": [
    "### Operações aritméticas com números de ponto flutuante"
   ]
  },
  {
   "cell_type": "code",
   "execution_count": 63,
   "id": "3d18ca28",
   "metadata": {},
   "outputs": [
    {
     "name": "stdout",
     "output_type": "stream",
     "text": [
      "---->Operadores aritméticos com float\n",
      "Adição (5.67 + 2.0): 7.67\n",
      "Subtração (5.67 - 2.0): 3.67\n",
      "Multiplicação (5.67 * 2.0): 11.34\n",
      "Divisão (5.67 / 2.0): 2.835\n",
      "Módulo (5.67 % 2.0): 1.67\n",
      "Potenciação (5.67 ** 2.0): 32.1489\n",
      "\n",
      "Valor original: 10.0, Novo valor: 15.0\n",
      "Valor original: 15.0\n"
     ]
    }
   ],
   "source": [
    "a = 5.67\n",
    "b = 2.0\n",
    "\n",
    "print(\"---->Operadores aritméticos com float\")\n",
    "\n",
    "soma = a + b\n",
    "print(f'Adição ({a} + {b}): {soma}')\n",
    "subtracao = a - b\n",
    "print(f'Subtração ({a} - {b}): {subtracao}')\n",
    "multiplicacao = a * b\n",
    "print(f'Multiplicação ({a} * {b}): {multiplicacao}')\n",
    "divisao = a / b\n",
    "print(f'Divisão ({a} / {b}): {divisao}')\n",
    "modulo = a % b\n",
    "print(f'Módulo ({a} % {b}): {modulo}')\n",
    "potencia = a ** b\n",
    "print(f'Potenciação ({a} ** {b}): {potencia}')\n",
    "\n",
    "\n",
    "# As variáveis numéricas são imutáveis. Exemplos de imutabilidade de variáveis númericas\n",
    "# Exemplo 1\n",
    "valor_original = 10.0\n",
    "novo_valor = valor_original + 5.0\n",
    "print(f\"\\nValor original: {valor_original}, Novo valor: {novo_valor}\")\n",
    "\n",
    "# Exemplo 2\n",
    "valor_original = 7.5\n",
    "valor_original *= 2\n",
    "print(f\"Valor original: {valor_original}\")\n"
   ]
  },
  {
   "cell_type": "markdown",
   "metadata": {},
   "source": [
    "### Operações aritméticas compostas com números de ponto flutuante"
   ]
  },
  {
   "cell_type": "code",
   "execution_count": 64,
   "metadata": {},
   "outputs": [
    {
     "name": "stdout",
     "output_type": "stream",
     "text": [
      "\n",
      "---->Operadores aritméticos compostos em Python\n",
      "Considerando, x = 5.0:\n",
      "     Adição e Atribuição      |-> (x += 3.0): x = 8.0\n",
      "    Subtração e Atribuição    |-> (x -= 2.0): x =  3.0\n",
      "  Multiplicação e Atribuição  |-> (x *= 4.0): x =  20.0\n",
      "     Divisão e Atribuição     |-> (x /= 2.0): x =  2.5\n",
      "   Potenciação e Atribuição   |-> (x **= 3.0): x = 125.0\n",
      "     Módulo e Atribuição      |-> (x %= 2.0): x =  1.0\n"
     ]
    }
   ],
   "source": [
    "print(\"\\n---->Operadores aritméticos compostos em Python\")\n",
    "x = 5.0\n",
    "print(f\"Considerando, x = {x}:\")\n",
    "\n",
    "x += 3.0\n",
    "print(f'{\"Adição e Atribuição\":^30}|-> (x += 3.0): x = {x}')\n",
    "\n",
    "x = 5.0\n",
    "x -= 2.0\n",
    "print(f'{\"Subtração e Atribuição\":^30}|-> (x -= 2.0): x =  {x}')\n",
    "\n",
    "x = 5.0\n",
    "x *= 4.0\n",
    "print(f'{\"Multiplicação e Atribuição\":^30}|-> (x *= 4.0): x =  {x}')\n",
    "\n",
    "x = 5.0\n",
    "x /= 2.0\n",
    "print(f'{\"Divisão e Atribuição\":^30}|-> (x /= 2.0): x =  {x}')\n",
    "\n",
    "x = 5.0\n",
    "x **= 3.0\n",
    "print(f'{\"Potenciação e Atribuição\":^30}|-> (x **= 3.0): x = {x}')\n",
    "\n",
    "x = 5.0\n",
    "x %= 2.0\n",
    "print(f'{\"Módulo e Atribuição\":^30}|-> (x %= 2.0): x =  {x}')"
   ]
  },
  {
   "cell_type": "markdown",
   "metadata": {},
   "source": [
    "### A maior e a menor potência de 2 que pode ser representada com variáveis de ponto flutuante\n",
    "De acordo com a documentação da biblioteca `sys`\n",
    "- `float_info.max_exp`: O número inteiro máximo `e` tal que o `radix ** (e-1)` é um flutuador finito representável.\n",
    "- `float_info.min_exp`: O número inteiro minimo `e` tal que o `radix ** (e-1)` é um flutuador finito representável."
   ]
  },
  {
   "cell_type": "code",
   "execution_count": 65,
   "metadata": {},
   "outputs": [
    {
     "name": "stdout",
     "output_type": "stream",
     "text": [
      "\n",
      "Maior potência de 2: 8.98846567431158e+307\n",
      "Menor potência de 2: 2.2250738585072014e-308\n"
     ]
    }
   ],
   "source": [
    "import sys\n",
    "\n",
    "# Considerando radix = 2.0\n",
    "maior_potencia_de_2 = 2.0 ** (sys.float_info.max_exp-1)\n",
    "menor_potencia_de_2 = 2.0 ** (sys.float_info.min_exp-1)\n",
    "print(f\"\\nMaior potência de 2: {maior_potencia_de_2}\")\n",
    "print(f\"Menor potência de 2: {menor_potencia_de_2}\")"
   ]
  },
  {
   "cell_type": "markdown",
   "metadata": {},
   "source": [
    "### Imutabilidade de variáveis de ponto flutuante"
   ]
  },
  {
   "cell_type": "code",
   "execution_count": 66,
   "metadata": {},
   "outputs": [
    {
     "name": "stdout",
     "output_type": "stream",
     "text": [
      "\n",
      "Métodos disponíveis para variáveis de ponto flutuante (excluindo métodos especiais):\n",
      "\n",
      "float.as_integer_ratio: Return a pair of integers, whose ratio is exactly equal to the original float.\n",
      "float.conjugate: Return self, the complex conjugate of any float.\n",
      "float.fromhex: Create a floating-point number from a hexadecimal string.\n",
      "float.hex: Return a hexadecimal representation of a floating-point number.\n",
      "float.is_integer: Return True if the float is an integer.\n"
     ]
    }
   ],
   "source": [
    "print(\"\\nMétodos disponíveis para variáveis de ponto flutuante (excluindo métodos especiais):\\n\")\n",
    "\n",
    "for metodo in dir(float):\n",
    "    if callable(getattr(float, metodo)) and not metodo.startswith('__'):\n",
    "        print(f\"float.{metodo}: {getattr(float, metodo).__doc__.partition(\"\\n\")[0]}\")        "
   ]
  },
  {
   "cell_type": "markdown",
   "id": "5bc297e3",
   "metadata": {},
   "source": [
    "**Exercício 6: Manipulando listas**\n",
    "- Dado o seguinte código, e antes de implementar, veja o que será impresso em cada caso:\n",
    "\n",
    "```python\n",
    "L = [1,2,3,4,5,6,7,8,9]\n",
    "print(L[::-1]) \n",
    "print(L[-1::]) \n",
    "print(L[:-1:]) \n",
    "print(L[::-2])\n",
    "print(L[-2::]) \n",
    "print(L[:-2:]) \n",
    "```\n",
    "\n",
    "- Uma forma simplificada de determinar o seu animal no zodiaco chines é apresentada na seguinte tabela:\n",
    "\n",
    "| ano de nascimento % 12 | Signo   | \n",
    "|------------------------|---------|\n",
    "|  0                     | Macaco  |\n",
    "|  1                     | Galo    |\n",
    "|  2                     | Cão     |\n",
    "|  3                     | Porco   |\n",
    "|  4                     | Rato    |\n",
    "|  5                     | Boi     |\n",
    "|  6                     | Tigre   |\n",
    "|  7                     | Coelho  |\n",
    "|  8                     | Dragão  |\n",
    "|  9                     | Serpente|\n",
    "|  10                    | Cavalo  |\n",
    "|  11                    | Carneiro|\n",
    "\n",
    "Descubra qual o signo de um usuário de acordo com seu ano de nascimento.\n"
   ]
  },
  {
   "cell_type": "markdown",
   "metadata": {},
   "source": [
    "### Operação [] em listas\n",
    "De acordo com a documentação de python a operação [] em sequências utiliza o slice, que é uma operação que permite extrair partes específicas de uma sequência, como listas, strings ou tuplas.  \n",
    "\n",
    "A sintaxe básica é `seq[início:fim:passo]`, onde:\n",
    "- início (opcional): índice inicial da fatia (incluído), padrão = 0.\n",
    "- fim (opcional): índice final da fatia (excluído), padrão = len(seq).\n",
    "- passo (opcional): intervalo entre os índices, padrão = 1."
   ]
  },
  {
   "cell_type": "code",
   "execution_count": 67,
   "id": "1d9dcd44",
   "metadata": {},
   "outputs": [
    {
     "name": "stdout",
     "output_type": "stream",
     "text": [
      "[9, 8, 7, 6, 5, 4, 3, 2, 1]\n",
      "[9]\n",
      "[1, 2, 3, 4, 5, 6, 7, 8]\n",
      "[9, 7, 5, 3, 1]\n",
      "[8, 9]\n",
      "[1, 2, 3, 4, 5, 6, 7]\n"
     ]
    }
   ],
   "source": [
    "L = [1, 2, 3, 4, 5, 6, 7, 8, 9]\n",
    "\n",
    "# Inverte a lista. \n",
    "# O -1 como <passo> inverte a ordem dos elementos, pegando todos os elementos da lista de trás para frente.\n",
    "print(L[::-1]) \n",
    "\n",
    "# Imprime o último elemento da lista. \n",
    "# O -1 como <início> representa o último elemento, \n",
    "# e o fim padrão (len(L)) faz com que seja o único elemento extraído.\n",
    "print(L[-1::]) \n",
    "\n",
    "# Imprime todos os elementos da lista, exceto o último. \n",
    "# O -1 como <fim> exclui o último elemento do slice.\n",
    "print(L[:-1:]) \n",
    "\n",
    "# Inverte a lista pulando de dois em dois elementos. \n",
    "# O -2 como <passo> inverte e pula elementos alternados.\n",
    "print(L[::-2]) \n",
    "\n",
    "# Imprime os dois últimos elementos da lista. \n",
    "# O -2 como <início> representa o penúltimo elemento, e o fim padrão (len(L)) pega o último elemento.\n",
    "print(L[-2::]) \n",
    "\n",
    "# Imprime todos os elementos da lista, exceto os dois últimos. \n",
    "# O -2 como <fim> exclui os dois últimos elementos do slice.\n",
    "print(L[:-2:]) "
   ]
  },
  {
   "cell_type": "markdown",
   "metadata": {},
   "source": [
    "### Descobrindo qual o signo de um usuário de acordo com seu ano de nascimento."
   ]
  },
  {
   "cell_type": "code",
   "execution_count": 68,
   "id": "a056ef91",
   "metadata": {},
   "outputs": [
    {
     "name": "stdout",
     "output_type": "stream",
     "text": [
      "Ano de nascimento: 1996 - Signo: Rato\n"
     ]
    }
   ],
   "source": [
    "# Lista  que mapeia o resto da divisão do ano de nascimento por 12 para o signo correspondente.\n",
    "signos = [\n",
    "    \"Macaco\",\n",
    "    \"Galo\",\n",
    "    \"Cão\",\n",
    "    \"Porco\",\n",
    "    \"Rato\",\n",
    "    \"Boi\",\n",
    "    \"Tigre\",\n",
    "    \"Coelho\",\n",
    "    \"Dragão\",\n",
    "    \"Serpente\",\n",
    "    \"Cavalo\",\n",
    "    \"Carneiro\"\n",
    "]\n",
    "\n",
    "ano_nascimento = int(input(\"Informe seu ano de nascimento: \"))\n",
    "signo = signos[ano_nascimento % 12] # Determina o signo correspondente usando o dicionário.\n",
    "print(f\"Ano de nascimento: {ano_nascimento} - Signo: {signo}\")\n"
   ]
  }
 ],
 "metadata": {
  "kernelspec": {
   "display_name": "Python 3 (ipykernel)",
   "language": "python",
   "name": "python3"
  },
  "language_info": {
   "codemirror_mode": {
    "name": "ipython",
    "version": 3
   },
   "file_extension": ".py",
   "mimetype": "text/x-python",
   "name": "python",
   "nbconvert_exporter": "python",
   "pygments_lexer": "ipython3",
   "version": "3.12.0"
  }
 },
 "nbformat": 4,
 "nbformat_minor": 5
}
